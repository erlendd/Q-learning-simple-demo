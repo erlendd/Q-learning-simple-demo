{
 "cells": [
  {
   "cell_type": "markdown",
   "metadata": {},
   "source": [
    "# Extremely simple Q-learning demo (reinforcement learning)\n",
    "\n",
    "I was reading through David Silver's notes from his course at the University College London [1], and decided to experiment with the simplest system I could think of for RL. The system is just a straight line in 1-dimension with a terminal state at both ends. The left terminal state is bad, in a game-over sense. The terminal state on the right is good, and carries a reward. There is no reward associated with the intermediate steps, but you're allowed a maximum of 12 moves in any \"episode\" of play.\n",
    "\n",
    "The code below should be very self-explanatory.\n",
    "\n",
    "\n",
    "### References:\n",
    "[1] http://www0.cs.ucl.ac.uk/staff/d.silver/web/Teaching.html"
   ]
  },
  {
   "cell_type": "code",
   "execution_count": 1,
   "metadata": {
    "collapsed": true
   },
   "outputs": [],
   "source": [
    "import numpy as np\n",
    "import seaborn as sns; sns.set()\n",
    "import pandas as pd\n",
    "import matplotlib \n",
    "%matplotlib inline\n",
    "import matplotlib.animation as animation\n",
    "from matplotlib import gridspec"
   ]
  },
  {
   "cell_type": "code",
   "execution_count": 2,
   "metadata": {
    "collapsed": true
   },
   "outputs": [],
   "source": [
    "# steps: the reward function for the problem\n",
    "# agent gets a reward at step #9, and is penalised at step #0.\n",
    "# there is no direct reward for the intermediate steps!\n",
    "def steps(x):\n",
    "    if x == 9: return 1\n",
    "    if x == 0: return -1\n",
    "    return 0"
   ]
  },
  {
   "cell_type": "code",
   "execution_count": 3,
   "metadata": {
    "collapsed": false
   },
   "outputs": [
    {
     "name": "stdout",
     "output_type": "stream",
     "text": [
      "[[ 0.          0.        ]\n",
      " [ 0.96928601  0.05564877]\n",
      " [ 0.24751885  0.07218827]\n",
      " [ 0.45304732  0.35176617]\n",
      " [ 0.44692536  0.47519625]\n",
      " [ 0.11878187  0.44914307]\n",
      " [ 0.81261386  0.73105563]\n",
      " [ 0.33232509  0.12268154]\n",
      " [ 0.49384103  0.40966538]\n",
      " [ 0.          0.        ]]\n"
     ]
    }
   ],
   "source": [
    "nstates = 10 # number of states (steps)\n",
    "actions = [-1, 1]\n",
    "nactions = 2 # move left or right\n",
    "lr = 0.1 # learning rate\n",
    "gamma = 0.9 # greedy(=0) vs. future-looking(=1)\n",
    "\n",
    "# Initialise the Q-table randomly.\n",
    "# Since there will be no way to update the Q-value of \n",
    "# the terminal-states when running, set them to zero now.\n",
    "Q = np.random.rand(nstates, nactions)\n",
    "Q[9, :] = 0\n",
    "Q[0, :] = 0\n",
    "\n",
    "# We can look at the initial Q-matrix..\n",
    "print Q"
   ]
  },
  {
   "cell_type": "code",
   "execution_count": 4,
   "metadata": {
    "collapsed": false
   },
   "outputs": [],
   "source": [
    "# Next we generate a bunch of episodes, which are simply sampled randomly\n",
    "savedQ = [] # stores history of the Q-table\n",
    "for episode in range(500):\n",
    "    state = np.random.choice( range(1, 9) )#2. # inital step\n",
    "    nmoves = 0\n",
    "    savedQ.append( np.round(Q, 2) )\n",
    "\n",
    "    for i in range(12): # max_moves = 12\n",
    "        nmoves += 1\n",
    "        # pick a random action (0=move left, 1=move right)\n",
    "        a = np.random.choice( [0, 1] )\n",
    "        newstate = state + actions[a]\n",
    "        \n",
    "        # first get the immediate reward from 'a'\n",
    "        reward = steps(newstate) - steps(state)\n",
    "        # update Q\n",
    "        # max_nextstep i.e. max_a'(Q[s', a'])\n",
    "        # find what we think is the best action in newstate\n",
    "        max_nextstep = np.max(Q[newstate, :])\n",
    "        update = reward + gamma * max_nextstep - Q[state, a]\n",
    "        Q[state, a] = Q[state, a] + lr * update\n",
    "\n",
    "        state = newstate\n",
    "        if state == 0:\n",
    "            # game over\n",
    "            break\n",
    "\n",
    "        if state == 9:\n",
    "            # we won (end of game)\n",
    "            break"
   ]
  },
  {
   "cell_type": "markdown",
   "metadata": {},
   "source": [
    "### Change in Q-matrix over time\n",
    "\n",
    "Now we calculate the delta of each saved Q-matrix between subsequent episodes, and plot this change. It appears that the Q-matrix basically stops changing after about 350 training episodes."
   ]
  },
  {
   "cell_type": "code",
   "execution_count": 5,
   "metadata": {
    "collapsed": false
   },
   "outputs": [
    {
     "data": {
      "image/png": "[encoded data removed]",
      "text/plain": [
       "<matplotlib.figure.Figure at 0x7f897c567fd0>"
      ]
     },
     "metadata": {},
     "output_type": "display_data"
    }
   ],
   "source": [
    "savedQ = np.array(savedQ)\n",
    "deltaQ = np.diff(savedQ, axis=0) # 0 as diff Q between episodes\n",
    "deltaQ = np.abs(deltaQ) # just absolute change between episodes\n",
    "deltaQ = np.sum(deltaQ, axis=1)\n",
    "deltaQ = np.sum(deltaQ, axis=1) # was axis 2, but becomes axis 1\n",
    "\n",
    "sns.plt.plot(np.arange(deltaQ.shape[0]), deltaQ)\n",
    "sns.plt.xlabel('Episode')\n",
    "sns.plt.ylabel('Abs. change in Q matrix')\n",
    "sns.plt.savefig('deltaQ.png')"
   ]
  },
  {
   "cell_type": "markdown",
   "metadata": {},
   "source": [
    "### Time-evolution of Q-matrix during training\n",
    "\n",
    "We can actually view how the Q-matrix converges over training episodes (video below). The final Q-matrix is as-expected: the values right column are always greater than the ones is the left column, indicating that moving right is always better. The reward associated with moving left when in state-1 is $-1$ (penalise), while the reward from moving left from state-8 is $1$ (i.e. the reward of the final state that we specified originally). The rest of the Q-values are learned during training, and can be interpreted as *\"the maximum discounted-reward that can be achieved if, in my current state I choose this action\"*. The discount factor (gamma in the Python code above) was chosen to be $0.9$, so the maximum discounted-reward from (say) moving right in state-6 is $0.81$, which can be computed using $q = r\\times \\gamma^{h}$, for reward $r$ and $h$ the number of hops until the reward is realised."
   ]
  },
  {
   "cell_type": "code",
   "execution_count": 10,
   "metadata": {
    "collapsed": false,
    "scrolled": false
   },
   "outputs": [
    {
     "data": {
      "text/html": [
       "<video width=\"800\" height=\"550\" controls>\n",
       "  <source src=\"Q_matrix_training.mp4\" type=\"video/mp4\">\n",
       "</video>"
      ],
      "text/plain": [
       "<IPython.core.display.HTML object>"
      ]
     },
     "metadata": {},
     "output_type": "display_data"
    }
   ],
   "source": [
    "%%HTML\n",
    "<video width=\"800\" height=\"550\" controls>\n",
    "  <source src=\"Q_matrix_training.mp4\" type=\"video/mp4\">\n",
    "</video>"
   ]
  },
  {
   "cell_type": "code",
   "execution_count": 9,
   "metadata": {
    "collapsed": true
   },
   "outputs": [],
   "source": [
    "# Clone repo to see video inline, or view file Q_matrix_training.mp4"
   ]
  }
 ],
 "metadata": {
  "kernelspec": {
   "display_name": "Python 2",
   "language": "python",
   "name": "python2"
  },
  "language_info": {
   "codemirror_mode": {
    "name": "ipython",
    "version": 2
   },
   "file_extension": ".py",
   "mimetype": "text/x-python",
   "name": "python",
   "nbconvert_exporter": "python",
   "pygments_lexer": "ipython2",
   "version": "2.7.12"
  }
 },
 "nbformat": 4,
 "nbformat_minor": 0
}
